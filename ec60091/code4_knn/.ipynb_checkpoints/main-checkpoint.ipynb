{
 "cells": [
  {
   "cell_type": "code",
   "execution_count": 37,
   "id": "50060ea0",
   "metadata": {},
   "outputs": [],
   "source": [
    "import numpy as np\n",
    "import pandas as pd\n",
    "from sklearn.metrics import accuracy_score as accuracy"
   ]
  },
  {
   "cell_type": "code",
   "execution_count": 54,
   "id": "94ebd36b",
   "metadata": {},
   "outputs": [],
   "source": [
    "train_path = './train.csv'\n",
    "test_path = './test.csv'"
   ]
  },
  {
   "cell_type": "code",
   "execution_count": 105,
   "id": "080eb092",
   "metadata": {},
   "outputs": [],
   "source": [
    "data_train = pd.read_csv(train_path).to_numpy()\n",
    "data_test = pd.read_csv(test_path).to_numpy()"
   ]
  },
  {
   "cell_type": "code",
   "execution_count": 106,
   "id": "eb1ed567",
   "metadata": {},
   "outputs": [],
   "source": [
    "X_train, y_train = data_train[:,:8], data_train[:,8]//4\n",
    "X_test, y_test = data_test[:,:8], data_test[:,8]//4"
   ]
  },
  {
   "cell_type": "code",
   "execution_count": 107,
   "id": "6eeb0db8",
   "metadata": {},
   "outputs": [],
   "source": [
    "X_train_norm = (X_train - X_train.mean())/X_train.std()\n",
    "X_test_norm = (X_test - X_test.mean())/X_test.std()"
   ]
  },
  {
   "cell_type": "code",
   "execution_count": 117,
   "id": "830de6a7",
   "metadata": {},
   "outputs": [],
   "source": [
    "cosine_sim = X_test_norm @ X_train_norm.T\n",
    "norm_l2_dist = np.sum(X_test_norm ** 2, axis=1, keepdims=True) + \\\n",
    "               np.sum(X_train_norm ** 2, axis=1).T - 2 * cosine_sim\n",
    "l2_dist = np.sum(X_test ** 2, axis=1, keepdims=True) + \\\n",
    "          np.sum(X_train ** 2, axis=1).T - 2 * X_test @ X_train.T"
   ]
  },
  {
   "cell_type": "code",
   "execution_count": 121,
   "id": "61442594",
   "metadata": {},
   "outputs": [
    {
     "name": "stdout",
     "output_type": "stream",
     "text": [
      "For k = 1\n",
      "Cosine similarity accuracy: 0.6857\n",
      "Normalized euclidean distance accuracy: 0.6857\n",
      "Euclidean distance accuracy: 0.9571\n",
      "For k = 3\n",
      "Cosine similarity accuracy: 0.6714\n",
      "Normalized euclidean distance accuracy: 0.6857\n",
      "Euclidean distance accuracy: 0.9429\n",
      "For k = 5\n",
      "Cosine similarity accuracy: 0.6714\n",
      "Normalized euclidean distance accuracy: 0.6857\n",
      "Euclidean distance accuracy: 0.9429\n",
      "For k = 7\n",
      "Cosine similarity accuracy: 0.6714\n",
      "Normalized euclidean distance accuracy: 0.6857\n",
      "Euclidean distance accuracy: 0.9429\n"
     ]
    }
   ],
   "source": [
    "for k in [1,3,5,7]:\n",
    "    idx_cosine = np.argpartition(cosine_sim, k,axis=1)[:,:k]\n",
    "    idx_norml2 = np.argpartition(norm_l2_dist, k,axis=1)[:,:k]\n",
    "    idx_l2 = np.argpartition(l2_dist, k,axis=1)[:,:k]\n",
    "    preds_cosine = (np.mean(y_train[idx_cosine],axis=1) > 0.5).astype(np.uint8)\n",
    "    preds_norml2 = (np.mean(y_train[idx_norml2],axis=1) > 0.5).astype(np.uint8)\n",
    "    preds_l2 = (np.mean(y_train[idx_l2],axis=1) > 0.5).astype(np.uint8)\n",
    "    print(\"For k = %d\" % k)\n",
    "    print(\"Cosine similarity accuracy: %.4f\" % accuracy(preds_cosine, y_test))\n",
    "    print(\"Normalized euclidean distance accuracy: %.4f\" % accuracy(preds_norml2, y_test))\n",
    "    print(\"Euclidean distance accuracy: %.4f\" % accuracy(preds_l2, y_test))"
   ]
  },
  {
   "cell_type": "code",
   "execution_count": 126,
   "id": "b8968afb",
   "metadata": {},
   "outputs": [
    {
     "data": {
      "text/plain": [
       "(7, 15)"
      ]
     },
     "execution_count": 126,
     "metadata": {},
     "output_type": "execute_result"
    }
   ],
   "source": [
    "np.argmin(cosine_sim)//cosine_sim.shape[1], np.argmin(cosine_sim) % cosine_sim.shape[1]"
   ]
  },
  {
   "cell_type": "code",
   "execution_count": null,
   "id": "6bfbe787",
   "metadata": {},
   "outputs": [],
   "source": []
  }
 ],
 "metadata": {
  "kernelspec": {
   "display_name": "Python 3 (ipykernel)",
   "language": "python",
   "name": "python3"
  },
  "language_info": {
   "codemirror_mode": {
    "name": "ipython",
    "version": 3
   },
   "file_extension": ".py",
   "mimetype": "text/x-python",
   "name": "python",
   "nbconvert_exporter": "python",
   "pygments_lexer": "ipython3",
   "version": "3.9.7"
  }
 },
 "nbformat": 4,
 "nbformat_minor": 5
}
