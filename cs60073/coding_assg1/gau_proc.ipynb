{
 "cells": [
  {
   "cell_type": "code",
   "execution_count": 1,
   "id": "e25ba209",
   "metadata": {},
   "outputs": [],
   "source": [
    "import numpy as np\n",
    "import pandas as pd\n",
    "import matplotlib.pyplot as plt\n",
    "from sklearn.preprocessing import PolynomialFeatures\n",
    "from sklearn.linear_model import LinearRegression\n",
    "from tqdm.notebook import tqdm"
   ]
  },
  {
   "cell_type": "code",
   "execution_count": 2,
   "id": "49c256b9",
   "metadata": {},
   "outputs": [],
   "source": [
    "data = pd.read_csv('./vaccination.csv').to_numpy()"
   ]
  },
  {
   "cell_type": "code",
   "execution_count": 3,
   "id": "0e6b3870",
   "metadata": {},
   "outputs": [],
   "source": [
    "x,f_cum,f = data[:,0],data[:,1],data[:,2]"
   ]
  },
  {
   "cell_type": "code",
   "execution_count": 4,
   "id": "1cdf710c",
   "metadata": {},
   "outputs": [],
   "source": [
    "x = x[:,np.newaxis]\n",
    "f = f[:,np.newaxis]"
   ]
  },
  {
   "cell_type": "code",
   "execution_count": 8,
   "id": "2dc3fc30",
   "metadata": {},
   "outputs": [],
   "source": [
    "x_miss = []\n",
    "for i in range(x.shape[0]-1):\n",
    "    if x[i+1][0]-x[i][0] > 1:\n",
    "        x_miss.append((x[i]+x[i+1])//2)\n",
    "x_miss = np.asarray(x_miss)\n",
    "# print(x_miss)"
   ]
  },
  {
   "cell_type": "code",
   "execution_count": 5,
   "id": "965b3035",
   "metadata": {},
   "outputs": [],
   "source": [
    "poly_features= PolynomialFeatures(degree=3)\n",
    "model = LinearRegression()"
   ]
  },
  {
   "cell_type": "code",
   "execution_count": 6,
   "id": "6e2165cf",
   "metadata": {},
   "outputs": [],
   "source": [
    "x_poly = poly_features.fit_transform(x)\n",
    "model.fit(x_poly, f)\n",
    "f_poly_pred = model.predict(x_poly)"
   ]
  },
  {
   "cell_type": "code",
   "execution_count": 9,
   "id": "c250eae6",
   "metadata": {},
   "outputs": [],
   "source": [
    "y = f_poly_pred - f"
   ]
  },
  {
   "cell_type": "code",
   "execution_count": 10,
   "id": "6e4e3b05",
   "metadata": {},
   "outputs": [],
   "source": [
    "x_poly_miss = poly_features.fit_transform(x_miss)\n",
    "f_poly_miss = model.predict(x_poly_miss)"
   ]
  },
  {
   "cell_type": "code",
   "execution_count": 11,
   "id": "37d32896",
   "metadata": {},
   "outputs": [],
   "source": [
    "mean_n,sigma_n = 0,0.1"
   ]
  },
  {
   "cell_type": "code",
   "execution_count": 12,
   "id": "684a72ac",
   "metadata": {},
   "outputs": [],
   "source": [
    "def kernel(a, b, sigma, l):\n",
    "    dist = a**2 + (b**2).T - 2*(b.T)*a\n",
    "    kr = sigma**2*np.exp(-dist/(2*l**2))\n",
    "    return kr"
   ]
  },
  {
   "cell_type": "code",
   "execution_count": 13,
   "id": "cf6ffe0d",
   "metadata": {},
   "outputs": [
    {
     "data": {
      "application/vnd.jupyter.widget-view+json": {
       "model_id": "a924570dc3db4a74be48f81f9b9776a9",
       "version_major": 2,
       "version_minor": 0
      },
      "text/plain": [
       "  0%|          | 0/29 [00:00<?, ?it/s]"
      ]
     },
     "metadata": {},
     "output_type": "display_data"
    },
    {
     "name": "stdout",
     "output_type": "stream",
     "text": [
      "1 [[4.1636915e+12]] 122578.45033282958\n",
      "6 [[3.71674057e+12]] 223139.2\n",
      "7 [[3.08092199e+12]] 243096.0\n",
      "8 [[2.92829901e+12]] 252504.8\n",
      "9 [[2.77490622e+12]] 266023.6\n"
     ]
    }
   ],
   "source": [
    "min_mse = 1e19\n",
    "best_l = 10\n",
    "for l in tqdm(range(1,30)):\n",
    "    kr = kernel(x.reshape(-1,1), x.reshape(-1,1), y.std(), l)\n",
    "    k1 = kernel(x_miss.reshape(-1,1), x, y.std(), l)\n",
    "    k2 = np.mat((kr + sigma_n*np.eye(kr.shape[0])))**(-1)\n",
    "    k3 = np.matmul(k2,y)\n",
    "    mu = np.matmul(k1,k3)\n",
    "    mse = 0.0\n",
    "    for idx,xi in enumerate(x_miss):\n",
    "        mean_inter = (y[xi-1] + y[xi+1])/2\n",
    "        mse += (mean_inter - mu[idx])**2\n",
    "    if min_mse > mse:\n",
    "        min_mse = mse\n",
    "        best_l = l\n",
    "        print(best_l, mse, mu.mean())"
   ]
  },
  {
   "cell_type": "code",
   "execution_count": 14,
   "id": "3b12259e",
   "metadata": {},
   "outputs": [],
   "source": [
    "l = best_l\n",
    "kr = kernel(x.reshape(-1,1), x.reshape(-1,1), y.std(), l)\n",
    "k1 = kernel(x_miss.reshape(-1,1), x, y.std(), l)\n",
    "k2 = np.linalg.inv(kr + (sigma_n**2)*np.eye(kr.shape[0]))\n",
    "k3 = np.matmul(k2,y)\n",
    "mu = np.matmul(k1,k3)"
   ]
  },
  {
   "cell_type": "code",
   "execution_count": 15,
   "id": "d03f6c98",
   "metadata": {
    "scrolled": false
   },
   "outputs": [
    {
     "name": "stdout",
     "output_type": "stream",
     "text": [
      "[[ 471040.]\n",
      " [-241728.]\n",
      " [ 130048.]\n",
      " [1430016.]\n",
      " [-450560.]\n",
      " [ 344064.]\n",
      " [ -40960.]\n",
      " [-253952.]\n",
      " [ 643072.]\n",
      " [ 597504.]] (10, 1)\n"
     ]
    }
   ],
   "source": [
    "print(mu, mu.shape)"
   ]
  },
  {
   "cell_type": "code",
   "execution_count": 16,
   "id": "2f31c2fc",
   "metadata": {},
   "outputs": [
    {
     "data": {
      "image/png": "[encoded data removed]",
      "text/plain": [
       "<Figure size 432x288 with 1 Axes>"
      ]
     },
     "metadata": {
      "needs_background": "light"
     },
     "output_type": "display_data"
    }
   ],
   "source": [
    "plt.plot(x, y, label = \"line 1\")\n",
    "# plt.plot(x, f_poly_pred, label = \"line 2\")\n",
    "plt.plot(x_miss, mu, 'b.', label = \"line 3\")\n",
    "\n",
    "# naming the x axis\n",
    "plt.xlabel('x')\n",
    "# naming the y axis\n",
    "plt.ylabel('f(x)')\n",
    "# giving a title to my graph\n",
    "plt.title('Data plot')\n",
    "plt.legend()\n",
    "plt.show()"
   ]
  },
  {
   "cell_type": "code",
   "execution_count": 17,
   "id": "887c0880",
   "metadata": {},
   "outputs": [
    {
     "data": {
      "image/png": "[encoded data removed]",
      "text/plain": [
       "<Figure size 432x288 with 1 Axes>"
      ]
     },
     "metadata": {
      "needs_background": "light"
     },
     "output_type": "display_data"
    }
   ],
   "source": [
    "plt.plot(x, f, label = \"line 1\")\n",
    "plt.plot(x, f_poly_pred, label = \"line 2\")\n",
    "plt.plot(x_miss, f_poly_miss - mu, 'b.', label = \"line 2\")\n",
    "\n",
    "# naming the x axis\n",
    "plt.xlabel('x')\n",
    "# naming the y axis\n",
    "plt.ylabel('f(x)')\n",
    "# giving a title to my graph\n",
    "plt.title('Data plot')\n",
    "plt.legend()\n",
    "plt.show()"
   ]
  },
  {
   "cell_type": "code",
   "execution_count": 212,
   "id": "c9f5579f",
   "metadata": {},
   "outputs": [],
   "source": []
  },
  {
   "cell_type": "code",
   "execution_count": 18,
   "id": "9a0cfd1b",
   "metadata": {},
   "outputs": [],
   "source": [
    "k_miss = kernel(x_miss.reshape(-1,1), x_miss.reshape(-1,1), y.std(), l)\n",
    "k4 = kernel(x, x_miss.reshape(-1,1), y.std(), l)\n",
    "\n",
    "sigma_miss = k_miss + (sigma_n**2)*np.eye(k_miss.shape[0]) - np.dot(k1,k2).dot(k4)"
   ]
  },
  {
   "cell_type": "code",
   "execution_count": 41,
   "id": "2a14ed22",
   "metadata": {},
   "outputs": [
    {
     "data": {
      "image/png": "[encoded data removed]",
      "text/plain": [
       "<Figure size 432x288 with 1 Axes>"
      ]
     },
     "metadata": {
      "needs_background": "light"
     },
     "output_type": "display_data"
    }
   ],
   "source": [
    "plt.plot(x, f, label = \"Vaccinations (training)\")\n",
    "plt.plot(x, f_poly_pred, label = \"Mean Function\")\n",
    "plt.errorbar(x_miss, f_poly_miss - mu,yerr=np.sqrt(abs(sigma_miss.diagonal())), fmt='b.',capsize=4, label = \"Vaccinations (testing)\")\n",
    "\n",
    "# naming the x axis\n",
    "plt.xlabel('x')\n",
    "# naming the y axis\n",
    "plt.ylabel('f(x)')\n",
    "# giving a title to my graph\n",
    "plt.title('Vaccinations Plot')\n",
    "plt.legend()\n",
    "plt.show()"
   ]
  },
  {
   "cell_type": "code",
   "execution_count": 37,
   "id": "eaf5e96d",
   "metadata": {},
   "outputs": [
    {
     "data": {
      "text/plain": [
       "array([[  1],\n",
       "       [  2],\n",
       "       [  3],\n",
       "       [  4],\n",
       "       [  5],\n",
       "       [  6],\n",
       "       [  7],\n",
       "       [  8],\n",
       "       [  9],\n",
       "       [ 10],\n",
       "       [ 11],\n",
       "       [ 12],\n",
       "       [ 13],\n",
       "       [ 14],\n",
       "       [ 15],\n",
       "       [ 16],\n",
       "       [ 17],\n",
       "       [ 18],\n",
       "       [ 19],\n",
       "       [ 20],\n",
       "       [ 21],\n",
       "       [ 22],\n",
       "       [ 23],\n",
       "       [ 24],\n",
       "       [ 25],\n",
       "       [ 26],\n",
       "       [ 27],\n",
       "       [ 28],\n",
       "       [ 29],\n",
       "       [ 30],\n",
       "       [ 32],\n",
       "       [ 33],\n",
       "       [ 34],\n",
       "       [ 35],\n",
       "       [ 36],\n",
       "       [ 37],\n",
       "       [ 38],\n",
       "       [ 39],\n",
       "       [ 40],\n",
       "       [ 41],\n",
       "       [ 42],\n",
       "       [ 43],\n",
       "       [ 44],\n",
       "       [ 45],\n",
       "       [ 46],\n",
       "       [ 47],\n",
       "       [ 48],\n",
       "       [ 49],\n",
       "       [ 50],\n",
       "       [ 51],\n",
       "       [ 52],\n",
       "       [ 53],\n",
       "       [ 54],\n",
       "       [ 55],\n",
       "       [ 56],\n",
       "       [ 57],\n",
       "       [ 58],\n",
       "       [ 59],\n",
       "       [ 60],\n",
       "       [ 61],\n",
       "       [ 62],\n",
       "       [ 63],\n",
       "       [ 64],\n",
       "       [ 65],\n",
       "       [ 66],\n",
       "       [ 67],\n",
       "       [ 68],\n",
       "       [ 69],\n",
       "       [ 70],\n",
       "       [ 71],\n",
       "       [ 72],\n",
       "       [ 73],\n",
       "       [ 74],\n",
       "       [ 75],\n",
       "       [ 76],\n",
       "       [ 77],\n",
       "       [ 78],\n",
       "       [ 79],\n",
       "       [ 80],\n",
       "       [ 81],\n",
       "       [ 82],\n",
       "       [ 83],\n",
       "       [ 84],\n",
       "       [ 85],\n",
       "       [ 86],\n",
       "       [ 87],\n",
       "       [ 88],\n",
       "       [ 89],\n",
       "       [ 90],\n",
       "       [ 91],\n",
       "       [ 92],\n",
       "       [ 93],\n",
       "       [ 94],\n",
       "       [ 95],\n",
       "       [ 97],\n",
       "       [ 98],\n",
       "       [101],\n",
       "       [102],\n",
       "       [103],\n",
       "       [104],\n",
       "       [105],\n",
       "       [106],\n",
       "       [107],\n",
       "       [108],\n",
       "       [109],\n",
       "       [110],\n",
       "       [111],\n",
       "       [112],\n",
       "       [113],\n",
       "       [114],\n",
       "       [115],\n",
       "       [116],\n",
       "       [117],\n",
       "       [118],\n",
       "       [119],\n",
       "       [120],\n",
       "       [121],\n",
       "       [122],\n",
       "       [123],\n",
       "       [124],\n",
       "       [125],\n",
       "       [126],\n",
       "       [128],\n",
       "       [129],\n",
       "       [130],\n",
       "       [131],\n",
       "       [132],\n",
       "       [133],\n",
       "       [134],\n",
       "       [135],\n",
       "       [136],\n",
       "       [137],\n",
       "       [138],\n",
       "       [139],\n",
       "       [140],\n",
       "       [141],\n",
       "       [142],\n",
       "       [143],\n",
       "       [144],\n",
       "       [145],\n",
       "       [146],\n",
       "       [147],\n",
       "       [148],\n",
       "       [149],\n",
       "       [150],\n",
       "       [151],\n",
       "       [152],\n",
       "       [153],\n",
       "       [154],\n",
       "       [155],\n",
       "       [156],\n",
       "       [157],\n",
       "       [158],\n",
       "       [159],\n",
       "       [160],\n",
       "       [161],\n",
       "       [162],\n",
       "       [163],\n",
       "       [164],\n",
       "       [165],\n",
       "       [166],\n",
       "       [167],\n",
       "       [168],\n",
       "       [169],\n",
       "       [170],\n",
       "       [171],\n",
       "       [172],\n",
       "       [173],\n",
       "       [174],\n",
       "       [175],\n",
       "       [177],\n",
       "       [178],\n",
       "       [179],\n",
       "       [180],\n",
       "       [181],\n",
       "       [182],\n",
       "       [183],\n",
       "       [184],\n",
       "       [186],\n",
       "       [187],\n",
       "       [188],\n",
       "       [189],\n",
       "       [190],\n",
       "       [191],\n",
       "       [192],\n",
       "       [193],\n",
       "       [194],\n",
       "       [195],\n",
       "       [196],\n",
       "       [197],\n",
       "       [199],\n",
       "       [201],\n",
       "       [202],\n",
       "       [203],\n",
       "       [204],\n",
       "       [205],\n",
       "       [206],\n",
       "       [207],\n",
       "       [208],\n",
       "       [209],\n",
       "       [211],\n",
       "       [212],\n",
       "       [214],\n",
       "       [215],\n",
       "       [216],\n",
       "       [217],\n",
       "       [218],\n",
       "       [219],\n",
       "       [220],\n",
       "       [221],\n",
       "       [222],\n",
       "       [223],\n",
       "       [224],\n",
       "       [225],\n",
       "       [226],\n",
       "       [227],\n",
       "       [228],\n",
       "       [229],\n",
       "       [230],\n",
       "       [231],\n",
       "       [232],\n",
       "       [233],\n",
       "       [234],\n",
       "       [235],\n",
       "       [236],\n",
       "       [237],\n",
       "       [238],\n",
       "       [239],\n",
       "       [240],\n",
       "       [241],\n",
       "       [242],\n",
       "       [243],\n",
       "       [244],\n",
       "       [245],\n",
       "       [246],\n",
       "       [247],\n",
       "       [248],\n",
       "       [249],\n",
       "       [250]])"
      ]
     },
     "execution_count": 37,
     "metadata": {},
     "output_type": "execute_result"
    }
   ],
   "source": [
    "x"
   ]
  },
  {
   "cell_type": "code",
   "execution_count": 38,
   "id": "d49f7fb9",
   "metadata": {},
   "outputs": [
    {
     "data": {
      "text/plain": [
       "array([[ 31],\n",
       "       [ 96],\n",
       "       [ 99],\n",
       "       [127],\n",
       "       [176],\n",
       "       [185],\n",
       "       [198],\n",
       "       [200],\n",
       "       [210],\n",
       "       [213]])"
      ]
     },
     "execution_count": 38,
     "metadata": {},
     "output_type": "execute_result"
    }
   ],
   "source": [
    "x_miss"
   ]
  },
  {
   "cell_type": "code",
   "execution_count": null,
   "id": "c57582b2",
   "metadata": {},
   "outputs": [],
   "source": []
  }
 ],
 "metadata": {
  "kernelspec": {
   "display_name": "Python 3 (ipykernel)",
   "language": "python",
   "name": "python3"
  },
  "language_info": {
   "codemirror_mode": {
    "name": "ipython",
    "version": 3
   },
   "file_extension": ".py",
   "mimetype": "text/x-python",
   "name": "python",
   "nbconvert_exporter": "python",
   "pygments_lexer": "ipython3",
   "version": "3.9.7"
  }
 },
 "nbformat": 4,
 "nbformat_minor": 5
}
